{
 "cells": [
  {
   "cell_type": "markdown",
   "metadata": {},
   "source": [
    "# Debugging the kim object"
   ]
  },
  {
   "cell_type": "markdown",
   "metadata": {},
   "source": [
    "Trying to debug and understand this."
   ]
  },
  {
   "cell_type": "markdown",
   "metadata": {},
   "source": [
    "## Set up"
   ]
  },
  {
   "cell_type": "code",
   "execution_count": 5,
   "metadata": {},
   "outputs": [
    {
     "name": "stdout",
     "output_type": "stream",
     "text": [
      "Checking if CUDA is found:\n",
      "[cuda(id=0)]\n",
      "Filters:  ['ps1__g', 'ps1__r', 'ps1__i', 'ps1__z', 'ps1__y', '2massj', '2massh', '2massks', 'sdssu']\n",
      "WATCH OUT: NMMA source code for flax is broken here so setting self.svd_path by hand\n",
      "/home/urash/twouters/flax_models\n",
      "/home/urash/twouters/flax_models/Bu2022Ye.pkl\n"
     ]
    }
   ],
   "source": [
    "import os\n",
    "os.environ[\"CUDA_VISIBLE_DEVICES\"] = \"0\"\n",
    "import inspect\n",
    "import numpy as np\n",
    "import jax.numpy as jnp\n",
    "import matplotlib.pyplot as plt\n",
    "# matlotlib settings\n",
    "mpl_params = {\"axes.grid\": True,\n",
    "        \"text.usetex\" : False, # TODO enable latex, but this breaks if filters have underscore\n",
    "        \"font.family\" : \"serif\",\n",
    "        \"ytick.color\" : \"black\",\n",
    "        \"xtick.color\" : \"black\",\n",
    "        \"axes.labelcolor\" : \"black\",\n",
    "        \"axes.edgecolor\" : \"black\",\n",
    "        \"font.serif\" : [\"Computer Modern Serif\"],\n",
    "        \"xtick.labelsize\": 16,\n",
    "        \"ytick.labelsize\": 16,\n",
    "        \"axes.labelsize\": 16,\n",
    "        \"legend.fontsize\": 16,\n",
    "        \"legend.title_fontsize\": 16,\n",
    "        \"figure.titlesize\": 16}\n",
    "plt.rcParams.update(mpl_params)\n",
    "\n",
    "import nmma as nmma\n",
    "from nmma.em.io import loadEvent\n",
    "from nmma.em.model import SVDLightCurveModel\n",
    "import nmma.em.model_parameters as model_parameters\n",
    "\n",
    "# flowMC imports\n",
    "from flowMC.nfmodel.rqSpline import MaskedCouplingRQSpline\n",
    "from flowMC.sampler.Gaussian_random_walk import GaussianRandomWalk\n",
    "from flowMC.sampler.MALA import MALA\n",
    "from flowMC.sampler.Sampler import Sampler\n",
    "from flowMC.utils.PRNG_keys import initialize_rng_keys\n",
    "from flowMC.nfmodel.utils import *\n",
    "\n",
    "from jimgw.prior import Uniform, Composite\n",
    "\n",
    "from kim.likelihood import OpticalLightCurve\n",
    "from kim.kim import Kim\n",
    "\n",
    "# jax imports\n",
    "import jax\n",
    "jax.config.update(\"jax_enable_x64\", True)\n",
    "jax.config.update(\"jax_debug_nans\", False)\n",
    "import jax.numpy as jnp\n",
    "\n",
    "import corner\n",
    "\n",
    "print(\"Checking if CUDA is found:\")\n",
    "print(jax.devices())\n",
    "\n",
    "### LOAD THE DATA ###\n",
    "\n",
    "data_file = \"../../data/AT2017gfo_corrected_no_inf.dat\"\n",
    "trigger_time = 57982.5285236896\n",
    "tmin, tmax = 0.05, 14\n",
    "data = loadEvent(data_file)\n",
    "filters = list(data.keys())\n",
    "print(\"Filters: \", filters)\n",
    "sample_times = jnp.linspace(tmin, tmax, 1_000)\n",
    "\n",
    "### PRIORS ###\n",
    "\n",
    "log10_mej_dyn_prior = Uniform(-3.0, -1.7, naming=[\"log10_mej_dyn\"])\n",
    "vej_dyn_prior = Uniform(0.12, 0.25, naming=[\"vej_dyn\"])\n",
    "Yedyn_prior = Uniform(0.15, 0.3, naming=[\"Yedyn\"])\n",
    "log10_mej_wind_prior = Uniform(-2.0, -0.89, naming=[\"log10_mej_wind\"])\n",
    "vej_wind_prior = Uniform(0.03, 0.15, naming=[\"vej_wind\"])\n",
    "inclination_EM_prior = Uniform(0., np.pi/2., naming=[\"inclination_EM\"])\n",
    "\n",
    "prior_list = [log10_mej_dyn_prior, \n",
    "              vej_dyn_prior, \n",
    "              Yedyn_prior, \n",
    "              log10_mej_wind_prior, \n",
    "              vej_wind_prior, \n",
    "              inclination_EM_prior]\n",
    "\n",
    "n_dim = len(prior_list)\n",
    "prior_range = [[prior.xmin, prior.xmax] for prior in prior_list]\n",
    "parameter_naming = [prior.naming for prior in prior_list]\n",
    "composite_prior = Composite(prior_list)\n",
    "\n",
    "### LIKELIHOOD ###\n",
    "\n",
    "MODEL_FUNCTIONS = {\n",
    "    k: v for k, v in model_parameters.__dict__.items() if inspect.isfunction(v)\n",
    "}\n",
    "MODEL_NAME = \"Bu2022Ye\"\n",
    "model_function = MODEL_FUNCTIONS[MODEL_NAME]\n",
    "\n",
    "svd_path = \"/home/urash/twouters/flax_models\"\n",
    "lc_model = SVDLightCurveModel(\n",
    "                MODEL_NAME,\n",
    "                sample_times,\n",
    "                svd_path=svd_path,\n",
    "                parameter_conversion=None,\n",
    "                mag_ncoeff=10,\n",
    "                lbol_ncoeff=None,\n",
    "                interpolation_type=\"flax\",\n",
    "                model_parameters=None,\n",
    "                filters=filters,\n",
    "                local_only=True\n",
    ")\n",
    "\n",
    "fixed_params = {'luminosity_distance': 44.0, \n",
    "                 'timeshift': 0.0}\n",
    "\n",
    "likelihood = OpticalLightCurve(lc_model,\n",
    "                               filters,\n",
    "                               data,\n",
    "                               trigger_time,\n",
    "                               fixed_params=fixed_params,\n",
    ")\n",
    "\n",
    "### LOCAL SAMPLER ARG ###\n",
    "\n",
    "eps = 1e-5\n",
    "mass_matrix = jnp.eye(n_dim)\n",
    "# TODO tune it here\n",
    "# mass_matrix = mass_matrix.at[0,0].set(1e-5)\n",
    "# mass_matrix = mass_matrix.at[1,1].set(1e-4)\n",
    "# mass_matrix = mass_matrix.at[2,2].set(1e-3)\n",
    "# mass_matrix = mass_matrix.at[3,3].set(1e-3)\n",
    "# mass_matrix = mass_matrix.at[7,7].set(1e-5)\n",
    "# mass_matrix = mass_matrix.at[11,11].set(1e-2)\n",
    "# mass_matrix = mass_matrix.at[12,12].set(1e-2)\n",
    "\n",
    "### TODO: might have to change this to a 1D matrix\n",
    "mass_matrix = jnp.diag(mass_matrix)\n",
    "\n",
    "local_sampler_arg = {\"step_size\": mass_matrix * eps}\n"
   ]
  },
  {
   "cell_type": "markdown",
   "metadata": {},
   "source": [
    "Then try to go over to the sampling stage:"
   ]
  },
  {
   "cell_type": "code",
   "execution_count": 6,
   "metadata": {},
   "outputs": [
    {
     "name": "stdout",
     "output_type": "stream",
     "text": [
      "DEBUG: precompiling now\n",
      "DEBUG: precompiling done\n",
      "No autotune found, use input sampler_params\n",
      "Training normalizing flow\n"
     ]
    },
    {
     "name": "stderr",
     "output_type": "stream",
     "text": [
      "Tuning global sampler:   0%|          | 0/5 [00:00<?, ?it/s]"
     ]
    },
    {
     "name": "stdout",
     "output_type": "stream",
     "text": [
      "last_step shape\n",
      "(100, 6)\n",
      "DEBUG: params calc lc shape\n",
      "()\n",
      "DEBUG: shape param_list in internal calc lc flax\n",
      "(6,)\n",
      "DEBUG: position, shape\n",
      "(6,)\n",
      "DEBUG: proposal\n",
      "(6,)\n",
      "DEBUG: params calc lc shape\n",
      "()\n",
      "DEBUG: shape param_list in internal calc lc flax\n",
      "(6,)\n",
      "DEBUG: position, shape\n",
      "(6,)\n",
      "DEBUG: proposal\n",
      "(6,)\n",
      "DEBUG: params calc lc shape\n",
      "()\n",
      "DEBUG: shape param_list in internal calc lc flax\n",
      "(6,)\n",
      "DEBUG: position, shape\n",
      "(6,)\n",
      "DEBUG: proposal\n",
      "(6,)\n",
      "DEBUG: params calc lc shape\n",
      "()\n",
      "DEBUG: shape param_list in internal calc lc flax\n",
      "(6,)\n",
      "DEBUG: position, shape\n",
      "(6,)\n",
      "DEBUG: proposal\n",
      "(6,)\n",
      "DEBUG: params calc lc shape\n",
      "()\n",
      "DEBUG: shape param_list in internal calc lc flax\n",
      "(6,)\n",
      "DEBUG: position, shape\n",
      "(6,)\n",
      "DEBUG: proposal\n",
      "(6,)\n",
      "DEBUG: params calc lc shape\n",
      "()\n",
      "DEBUG: shape param_list in internal calc lc flax\n",
      "(6,)\n",
      "DEBUG: position, shape\n",
      "(6,)\n",
      "DEBUG: proposal\n",
      "(6,)\n",
      "DEBUG: params calc lc shape\n",
      "()\n",
      "DEBUG: shape param_list in internal calc lc flax\n",
      "(6,)\n",
      "DEBUG: position, shape\n",
      "(6,)\n",
      "DEBUG: proposal\n",
      "(6,)\n",
      "DEBUG: params calc lc shape\n",
      "()\n",
      "DEBUG: shape param_list in internal calc lc flax\n",
      "(6,)\n",
      "DEBUG: position, shape\n",
      "(6,)\n",
      "DEBUG: proposal\n",
      "(6,)\n",
      "DEBUG: params calc lc shape\n",
      "()\n",
      "DEBUG: shape param_list in internal calc lc flax\n",
      "(6,)\n",
      "DEBUG: position, shape\n",
      "(6,)\n",
      "DEBUG: proposal\n",
      "(6,)\n",
      "DEBUG: params calc lc shape\n",
      "()\n",
      "DEBUG: shape param_list in internal calc lc flax\n",
      "(6,)\n",
      "DEBUG: new positions\n",
      "(100, 10, 6)\n",
      "Now global sampler\n"
     ]
    },
    {
     "name": "stderr",
     "output_type": "stream",
     "text": [
      "Tuning global sampler:   0%|          | 0/5 [00:42<?, ?it/s]\n"
     ]
    },
    {
     "ename": "KeyboardInterrupt",
     "evalue": "",
     "output_type": "error",
     "traceback": [
      "\u001b[0;31m---------------------------------------------------------------------------\u001b[0m",
      "\u001b[0;31mKeyboardInterrupt\u001b[0m                         Traceback (most recent call last)",
      "Cell \u001b[0;32mIn[6], line 22\u001b[0m\n\u001b[1;32m      1\u001b[0m outdir_name \u001b[39m=\u001b[39m \u001b[39m\"\u001b[39m\u001b[39m./outdir/\u001b[39m\u001b[39m\"\u001b[39m\n\u001b[1;32m      2\u001b[0m kim \u001b[39m=\u001b[39m Kim(likelihood,\n\u001b[1;32m      3\u001b[0m           composite_prior,\n\u001b[1;32m      4\u001b[0m           n_loop_training\u001b[39m=\u001b[39m\u001b[39m5\u001b[39m,\n\u001b[0;32m   (...)\u001b[0m\n\u001b[1;32m     19\u001b[0m           outdir_name\u001b[39m=\u001b[39moutdir_name\n\u001b[1;32m     20\u001b[0m           )\n\u001b[0;32m---> 22\u001b[0m kim\u001b[39m.\u001b[39;49msample(jax\u001b[39m.\u001b[39;49mrandom\u001b[39m.\u001b[39;49mPRNGKey(\u001b[39m42\u001b[39;49m))\n",
      "File \u001b[0;32m~/kim/src/kim/kim.py:85\u001b[0m, in \u001b[0;36mKim.sample\u001b[0;34m(self, key, initial_guess)\u001b[0m\n\u001b[1;32m     82\u001b[0m     initial_guess \u001b[39m=\u001b[39m jnp\u001b[39m.\u001b[39mstack([i \u001b[39mfor\u001b[39;00m i \u001b[39min\u001b[39;00m initial_guess_named\u001b[39m.\u001b[39mvalues()])\u001b[39m.\u001b[39mT\n\u001b[1;32m     84\u001b[0m \u001b[39mself\u001b[39m\u001b[39m.\u001b[39minitial_guess \u001b[39m=\u001b[39m initial_guess\n\u001b[0;32m---> 85\u001b[0m \u001b[39mself\u001b[39;49m\u001b[39m.\u001b[39;49mSampler\u001b[39m.\u001b[39;49msample(initial_guess, \u001b[39mNone\u001b[39;49;00m)\n",
      "File \u001b[0;32m~/flowMC/src/flowMC/sampler/Sampler.py:158\u001b[0m, in \u001b[0;36mSampler.sample\u001b[0;34m(self, initial_position, data)\u001b[0m\n\u001b[1;32m    156\u001b[0m last_step \u001b[39m=\u001b[39m initial_position\n\u001b[1;32m    157\u001b[0m \u001b[39mif\u001b[39;00m \u001b[39mself\u001b[39m\u001b[39m.\u001b[39muse_global \u001b[39m==\u001b[39m \u001b[39mTrue\u001b[39;00m:\n\u001b[0;32m--> 158\u001b[0m     last_step \u001b[39m=\u001b[39m \u001b[39mself\u001b[39;49m\u001b[39m.\u001b[39;49mglobal_sampler_tuning(last_step, data)\n\u001b[1;32m    160\u001b[0m last_step \u001b[39m=\u001b[39m \u001b[39mself\u001b[39m\u001b[39m.\u001b[39mproduction_run(last_step, data)\n",
      "File \u001b[0;32m~/flowMC/src/flowMC/sampler/Sampler.py:349\u001b[0m, in \u001b[0;36mSampler.global_sampler_tuning\u001b[0;34m(self, initial_position, data)\u001b[0m\n\u001b[1;32m    347\u001b[0m \u001b[39mprint\u001b[39m(\u001b[39m\"\u001b[39m\u001b[39mlast_step shape\u001b[39m\u001b[39m\"\u001b[39m)\n\u001b[1;32m    348\u001b[0m \u001b[39mprint\u001b[39m(jnp\u001b[39m.\u001b[39mshape(last_step))\n\u001b[0;32m--> 349\u001b[0m last_step, auxiliary \u001b[39m=\u001b[39m \u001b[39mself\u001b[39;49m\u001b[39m.\u001b[39;49msampling_loop(last_step, data, training\u001b[39m=\u001b[39;49m\u001b[39mTrue\u001b[39;49;00m)\n\u001b[1;32m    350\u001b[0m \u001b[39mif\u001b[39;00m auxiliary[\u001b[39m\"\u001b[39m\u001b[39mglobal_acc_mean\u001b[39m\u001b[39m\"\u001b[39m] \u001b[39m>\u001b[39m \u001b[39mself\u001b[39m\u001b[39m.\u001b[39mstopping_criterion_global_acc:\n\u001b[1;32m    351\u001b[0m     \u001b[39mprint\u001b[39m(\u001b[39m\"\u001b[39m\u001b[39mEarly stopping: global acceptance target rate achieved\u001b[39m\u001b[39m\"\u001b[39m)\n",
      "File \u001b[0;32m~/flowMC/src/flowMC/sampler/Sampler.py:249\u001b[0m, in \u001b[0;36mSampler.sampling_loop\u001b[0;34m(self, initial_position, data, training)\u001b[0m\n\u001b[1;32m    242\u001b[0m     \u001b[39mself\u001b[39m\u001b[39m.\u001b[39mglobal_sampler\u001b[39m.\u001b[39mmodel \u001b[39m=\u001b[39m eqx\u001b[39m.\u001b[39mtree_at(\n\u001b[1;32m    243\u001b[0m         \u001b[39mlambda\u001b[39;00m m: m\u001b[39m.\u001b[39m_data_mean, \u001b[39mself\u001b[39m\u001b[39m.\u001b[39mnf_model, \u001b[39mself\u001b[39m\u001b[39m.\u001b[39mvariables[\u001b[39m\"\u001b[39m\u001b[39mmean\u001b[39m\u001b[39m\"\u001b[39m]\n\u001b[1;32m    244\u001b[0m     )\n\u001b[1;32m    245\u001b[0m     \u001b[39mself\u001b[39m\u001b[39m.\u001b[39mglobal_sampler\u001b[39m.\u001b[39mmodel \u001b[39m=\u001b[39m eqx\u001b[39m.\u001b[39mtree_at(\n\u001b[1;32m    246\u001b[0m         \u001b[39mlambda\u001b[39;00m m: m\u001b[39m.\u001b[39m_data_cov, \u001b[39mself\u001b[39m\u001b[39m.\u001b[39mnf_model, \u001b[39mself\u001b[39m\u001b[39m.\u001b[39mvariables[\u001b[39m\"\u001b[39m\u001b[39mcov\u001b[39m\u001b[39m\"\u001b[39m]\n\u001b[1;32m    247\u001b[0m     )\n\u001b[0;32m--> 249\u001b[0m     \u001b[39mself\u001b[39m\u001b[39m.\u001b[39mrng_keys_nf, \u001b[39mself\u001b[39m\u001b[39m.\u001b[39mglobal_sampler\u001b[39m.\u001b[39mmodel, \u001b[39mself\u001b[39m\u001b[39m.\u001b[39moptim_state, loss_values \u001b[39m=\u001b[39m \u001b[39mself\u001b[39;49m\u001b[39m.\u001b[39;49mnf_training_loop(\n\u001b[1;32m    250\u001b[0m         \u001b[39mself\u001b[39;49m\u001b[39m.\u001b[39;49mrng_keys_nf,\n\u001b[1;32m    251\u001b[0m         \u001b[39mself\u001b[39;49m\u001b[39m.\u001b[39;49mnf_model,\n\u001b[1;32m    252\u001b[0m         flat_chain,\n\u001b[1;32m    253\u001b[0m         \u001b[39mself\u001b[39;49m\u001b[39m.\u001b[39;49moptim_state,\n\u001b[1;32m    254\u001b[0m         \u001b[39mself\u001b[39;49m\u001b[39m.\u001b[39;49mn_epochs,\n\u001b[1;32m    255\u001b[0m         \u001b[39mself\u001b[39;49m\u001b[39m.\u001b[39;49mbatch_size,\n\u001b[1;32m    256\u001b[0m         \u001b[39mself\u001b[39;49m\u001b[39m.\u001b[39;49mverbose,\n\u001b[1;32m    257\u001b[0m     )\n\u001b[1;32m    258\u001b[0m     \u001b[39mself\u001b[39m\u001b[39m.\u001b[39msummary[\u001b[39m\"\u001b[39m\u001b[39mtraining\u001b[39m\u001b[39m\"\u001b[39m][\u001b[39m\"\u001b[39m\u001b[39mloss_vals\u001b[39m\u001b[39m\"\u001b[39m] \u001b[39m=\u001b[39m jnp\u001b[39m.\u001b[39mappend(\n\u001b[1;32m    259\u001b[0m         \u001b[39mself\u001b[39m\u001b[39m.\u001b[39msummary[\u001b[39m\"\u001b[39m\u001b[39mtraining\u001b[39m\u001b[39m\"\u001b[39m][\u001b[39m\"\u001b[39m\u001b[39mloss_vals\u001b[39m\u001b[39m\"\u001b[39m],\n\u001b[1;32m    260\u001b[0m         loss_values\u001b[39m.\u001b[39mreshape(\u001b[39m1\u001b[39m, \u001b[39m-\u001b[39m\u001b[39m1\u001b[39m),\n\u001b[1;32m    261\u001b[0m         axis\u001b[39m=\u001b[39m\u001b[39m0\u001b[39m,\n\u001b[1;32m    262\u001b[0m     )\n\u001b[1;32m    264\u001b[0m (\n\u001b[1;32m    265\u001b[0m     \u001b[39mself\u001b[39m\u001b[39m.\u001b[39mrng_keys_nf,\n\u001b[1;32m    266\u001b[0m     nf_chain,\n\u001b[0;32m   (...)\u001b[0m\n\u001b[1;32m    275\u001b[0m     mode \u001b[39m=\u001b[39m summary_mode\n\u001b[1;32m    276\u001b[0m )\n",
      "File \u001b[0;32m~/flowMC/src/flowMC/nfmodel/utils.py:97\u001b[0m, in \u001b[0;36mmake_training_loop.<locals>.train_flow\u001b[0;34m(rng, model, data, state, num_epochs, batch_size, verbose)\u001b[0m\n\u001b[1;32m     95\u001b[0m rng, input_rng \u001b[39m=\u001b[39m jax\u001b[39m.\u001b[39mrandom\u001b[39m.\u001b[39msplit(rng)\n\u001b[1;32m     96\u001b[0m \u001b[39m# Run an optimization step over a training batch\u001b[39;00m\n\u001b[0;32m---> 97\u001b[0m value, model, state \u001b[39m=\u001b[39m train_epoch(input_rng, model, state, data, batch_size)\n\u001b[1;32m     98\u001b[0m loss_values \u001b[39m=\u001b[39m loss_values\u001b[39m.\u001b[39mat[epoch]\u001b[39m.\u001b[39mset(value)\n\u001b[1;32m     99\u001b[0m \u001b[39mif\u001b[39;00m loss_values[epoch] \u001b[39m<\u001b[39m best_loss:\n",
      "File \u001b[0;32m~/flowMC/src/flowMC/nfmodel/utils.py:56\u001b[0m, in \u001b[0;36mmake_training_loop.<locals>.train_epoch\u001b[0;34m(rng, model, state, train_ds, batch_size)\u001b[0m\n\u001b[1;32m     54\u001b[0m     \u001b[39mfor\u001b[39;00m perm \u001b[39min\u001b[39;00m perms:\n\u001b[1;32m     55\u001b[0m         batch \u001b[39m=\u001b[39m train_ds[perm, \u001b[39m.\u001b[39m\u001b[39m.\u001b[39m\u001b[39m.\u001b[39m]\n\u001b[0;32m---> 56\u001b[0m         value, model, state \u001b[39m=\u001b[39m train_step(model, batch, state)\n\u001b[1;32m     57\u001b[0m \u001b[39melse\u001b[39;00m:\n\u001b[1;32m     58\u001b[0m     value, model, state \u001b[39m=\u001b[39m train_step(model, train_ds, state)\n",
      "    \u001b[0;31m[... skipping hidden 4 frame]\u001b[0m\n",
      "File \u001b[0;32m~/miniconda3/envs/nmma_gpu/lib/python3.10/site-packages/jax/_src/pjit.py:255\u001b[0m, in \u001b[0;36m_cpp_pjit.<locals>.cache_miss\u001b[0;34m(*args, **kwargs)\u001b[0m\n\u001b[1;32m    253\u001b[0m \u001b[39m@api_boundary\u001b[39m\n\u001b[1;32m    254\u001b[0m \u001b[39mdef\u001b[39;00m \u001b[39mcache_miss\u001b[39m(\u001b[39m*\u001b[39margs, \u001b[39m*\u001b[39m\u001b[39m*\u001b[39mkwargs):\n\u001b[0;32m--> 255\u001b[0m   outs, out_flat, out_tree, args_flat, jaxpr \u001b[39m=\u001b[39m _python_pjit_helper(\n\u001b[1;32m    256\u001b[0m       fun, infer_params_fn, \u001b[39m*\u001b[39;49margs, \u001b[39m*\u001b[39;49m\u001b[39m*\u001b[39;49mkwargs)\n\u001b[1;32m    257\u001b[0m   executable \u001b[39m=\u001b[39m _read_most_recent_pjit_call_executable(jaxpr)\n\u001b[1;32m    258\u001b[0m   fastpath_data \u001b[39m=\u001b[39m _get_fastpath_data(executable, out_tree, args_flat, out_flat)\n",
      "File \u001b[0;32m~/miniconda3/envs/nmma_gpu/lib/python3.10/site-packages/jax/_src/pjit.py:166\u001b[0m, in \u001b[0;36m_python_pjit_helper\u001b[0;34m(fun, infer_params_fn, *args, **kwargs)\u001b[0m\n\u001b[1;32m    164\u001b[0m   dispatch\u001b[39m.\u001b[39mcheck_arg(arg)\n\u001b[1;32m    165\u001b[0m \u001b[39mtry\u001b[39;00m:\n\u001b[0;32m--> 166\u001b[0m   out_flat \u001b[39m=\u001b[39m pjit_p\u001b[39m.\u001b[39;49mbind(\u001b[39m*\u001b[39;49margs_flat, \u001b[39m*\u001b[39;49m\u001b[39m*\u001b[39;49mparams)\n\u001b[1;32m    167\u001b[0m \u001b[39mexcept\u001b[39;00m pxla\u001b[39m.\u001b[39mDeviceAssignmentMismatchError \u001b[39mas\u001b[39;00m e:\n\u001b[1;32m    168\u001b[0m   fails, \u001b[39m=\u001b[39m e\u001b[39m.\u001b[39margs\n",
      "File \u001b[0;32m~/miniconda3/envs/nmma_gpu/lib/python3.10/site-packages/jax/_src/core.py:2682\u001b[0m, in \u001b[0;36mAxisPrimitive.bind\u001b[0;34m(self, *args, **params)\u001b[0m\n\u001b[1;32m   2678\u001b[0m axis_main \u001b[39m=\u001b[39m \u001b[39mmax\u001b[39m((axis_frame(a)\u001b[39m.\u001b[39mmain_trace \u001b[39mfor\u001b[39;00m a \u001b[39min\u001b[39;00m used_axis_names(\u001b[39mself\u001b[39m, params)),\n\u001b[1;32m   2679\u001b[0m                 default\u001b[39m=\u001b[39m\u001b[39mNone\u001b[39;00m, key\u001b[39m=\u001b[39m\u001b[39mlambda\u001b[39;00m t: \u001b[39mgetattr\u001b[39m(t, \u001b[39m'\u001b[39m\u001b[39mlevel\u001b[39m\u001b[39m'\u001b[39m, \u001b[39m-\u001b[39m\u001b[39m1\u001b[39m))\n\u001b[1;32m   2680\u001b[0m top_trace \u001b[39m=\u001b[39m (top_trace \u001b[39mif\u001b[39;00m \u001b[39mnot\u001b[39;00m axis_main \u001b[39mor\u001b[39;00m axis_main\u001b[39m.\u001b[39mlevel \u001b[39m<\u001b[39m top_trace\u001b[39m.\u001b[39mlevel\n\u001b[1;32m   2681\u001b[0m              \u001b[39melse\u001b[39;00m axis_main\u001b[39m.\u001b[39mwith_cur_sublevel())\n\u001b[0;32m-> 2682\u001b[0m \u001b[39mreturn\u001b[39;00m \u001b[39mself\u001b[39;49m\u001b[39m.\u001b[39;49mbind_with_trace(top_trace, args, params)\n",
      "File \u001b[0;32m~/miniconda3/envs/nmma_gpu/lib/python3.10/site-packages/jax/_src/core.py:405\u001b[0m, in \u001b[0;36mPrimitive.bind_with_trace\u001b[0;34m(self, trace, args, params)\u001b[0m\n\u001b[1;32m    404\u001b[0m \u001b[39mdef\u001b[39;00m \u001b[39mbind_with_trace\u001b[39m(\u001b[39mself\u001b[39m, trace, args, params):\n\u001b[0;32m--> 405\u001b[0m   out \u001b[39m=\u001b[39m trace\u001b[39m.\u001b[39;49mprocess_primitive(\u001b[39mself\u001b[39;49m, \u001b[39mmap\u001b[39;49m(trace\u001b[39m.\u001b[39;49mfull_raise, args), params)\n\u001b[1;32m    406\u001b[0m   \u001b[39mreturn\u001b[39;00m \u001b[39mmap\u001b[39m(full_lower, out) \u001b[39mif\u001b[39;00m \u001b[39mself\u001b[39m\u001b[39m.\u001b[39mmultiple_results \u001b[39melse\u001b[39;00m full_lower(out)\n",
      "File \u001b[0;32m~/miniconda3/envs/nmma_gpu/lib/python3.10/site-packages/jax/_src/core.py:893\u001b[0m, in \u001b[0;36mEvalTrace.process_primitive\u001b[0;34m(self, primitive, tracers, params)\u001b[0m\n\u001b[1;32m    892\u001b[0m \u001b[39mdef\u001b[39;00m \u001b[39mprocess_primitive\u001b[39m(\u001b[39mself\u001b[39m, primitive, tracers, params):\n\u001b[0;32m--> 893\u001b[0m   \u001b[39mreturn\u001b[39;00m primitive\u001b[39m.\u001b[39;49mimpl(\u001b[39m*\u001b[39;49mtracers, \u001b[39m*\u001b[39;49m\u001b[39m*\u001b[39;49mparams)\n",
      "File \u001b[0;32m~/miniconda3/envs/nmma_gpu/lib/python3.10/site-packages/jax/_src/pjit.py:1238\u001b[0m, in \u001b[0;36m_pjit_call_impl\u001b[0;34m(jaxpr, in_shardings, out_shardings, resource_env, donated_invars, name, keep_unused, inline, *args)\u001b[0m\n\u001b[1;32m   1235\u001b[0m donated_argnums \u001b[39m=\u001b[39m [i \u001b[39mfor\u001b[39;00m i, d \u001b[39min\u001b[39;00m \u001b[39menumerate\u001b[39m(donated_invars) \u001b[39mif\u001b[39;00m d]\n\u001b[1;32m   1236\u001b[0m has_explicit_sharding \u001b[39m=\u001b[39m _pjit_explicit_sharding(\n\u001b[1;32m   1237\u001b[0m     in_shardings, out_shardings, \u001b[39mNone\u001b[39;00m, \u001b[39mNone\u001b[39;00m)\n\u001b[0;32m-> 1238\u001b[0m \u001b[39mreturn\u001b[39;00m xc\u001b[39m.\u001b[39;49m_xla\u001b[39m.\u001b[39;49mpjit(name, f, call_impl_cache_miss, [], [], donated_argnums,\n\u001b[1;32m   1239\u001b[0m                     tree_util\u001b[39m.\u001b[39;49mdispatch_registry,\n\u001b[1;32m   1240\u001b[0m                     _get_cpp_global_cache(has_explicit_sharding))(\u001b[39m*\u001b[39;49margs)\n",
      "File \u001b[0;32m~/miniconda3/envs/nmma_gpu/lib/python3.10/site-packages/jax/_src/pjit.py:1222\u001b[0m, in \u001b[0;36m_pjit_call_impl.<locals>.call_impl_cache_miss\u001b[0;34m(*args_, **kwargs_)\u001b[0m\n\u001b[1;32m   1221\u001b[0m \u001b[39mdef\u001b[39;00m \u001b[39mcall_impl_cache_miss\u001b[39m(\u001b[39m*\u001b[39margs_, \u001b[39m*\u001b[39m\u001b[39m*\u001b[39mkwargs_):\n\u001b[0;32m-> 1222\u001b[0m   out_flat, compiled \u001b[39m=\u001b[39m _pjit_call_impl_python(\n\u001b[1;32m   1223\u001b[0m       \u001b[39m*\u001b[39;49margs, jaxpr\u001b[39m=\u001b[39;49mjaxpr, in_shardings\u001b[39m=\u001b[39;49min_shardings,\n\u001b[1;32m   1224\u001b[0m       out_shardings\u001b[39m=\u001b[39;49mout_shardings, resource_env\u001b[39m=\u001b[39;49mresource_env,\n\u001b[1;32m   1225\u001b[0m       donated_invars\u001b[39m=\u001b[39;49mdonated_invars, name\u001b[39m=\u001b[39;49mname, keep_unused\u001b[39m=\u001b[39;49mkeep_unused,\n\u001b[1;32m   1226\u001b[0m       inline\u001b[39m=\u001b[39;49minline)\n\u001b[1;32m   1227\u001b[0m   fastpath_data \u001b[39m=\u001b[39m _get_fastpath_data(\n\u001b[1;32m   1228\u001b[0m       compiled, tree_structure(out_flat), args, out_flat)\n\u001b[1;32m   1229\u001b[0m   \u001b[39mreturn\u001b[39;00m out_flat, fastpath_data\n",
      "File \u001b[0;32m~/miniconda3/envs/nmma_gpu/lib/python3.10/site-packages/jax/_src/pjit.py:1158\u001b[0m, in \u001b[0;36m_pjit_call_impl_python\u001b[0;34m(jaxpr, in_shardings, out_shardings, resource_env, donated_invars, name, keep_unused, inline, *args)\u001b[0m\n\u001b[1;32m   1149\u001b[0m \u001b[39mglobal\u001b[39;00m _most_recent_pjit_call_executable\n\u001b[1;32m   1151\u001b[0m in_shardings \u001b[39m=\u001b[39m _resolve_in_shardings(\n\u001b[1;32m   1152\u001b[0m     args, in_shardings, out_shardings,\n\u001b[1;32m   1153\u001b[0m     resource_env\u001b[39m.\u001b[39mphysical_mesh \u001b[39mif\u001b[39;00m resource_env \u001b[39mis\u001b[39;00m \u001b[39mnot\u001b[39;00m \u001b[39mNone\u001b[39;00m \u001b[39melse\u001b[39;00m \u001b[39mNone\u001b[39;00m)\n\u001b[1;32m   1155\u001b[0m compiled \u001b[39m=\u001b[39m _pjit_lower(\n\u001b[1;32m   1156\u001b[0m     jaxpr, in_shardings, out_shardings, resource_env,\n\u001b[1;32m   1157\u001b[0m     donated_invars, name, keep_unused, inline,\n\u001b[0;32m-> 1158\u001b[0m     lowering_parameters\u001b[39m=\u001b[39;49mmlir\u001b[39m.\u001b[39;49mLoweringParameters())\u001b[39m.\u001b[39;49mcompile()\n\u001b[1;32m   1159\u001b[0m _most_recent_pjit_call_executable\u001b[39m.\u001b[39mweak_key_dict[jaxpr] \u001b[39m=\u001b[39m compiled\n\u001b[1;32m   1160\u001b[0m \u001b[39m# This check is expensive so only do it if enable_checks is on.\u001b[39;00m\n",
      "File \u001b[0;32m~/miniconda3/envs/nmma_gpu/lib/python3.10/site-packages/jax/_src/interpreters/pxla.py:2208\u001b[0m, in \u001b[0;36mMeshComputation.compile\u001b[0;34m(self, compiler_options)\u001b[0m\n\u001b[1;32m   2206\u001b[0m \u001b[39mdef\u001b[39;00m \u001b[39mcompile\u001b[39m(\u001b[39mself\u001b[39m, compiler_options\u001b[39m=\u001b[39m\u001b[39mNone\u001b[39;00m) \u001b[39m-\u001b[39m\u001b[39m>\u001b[39m MeshExecutable:\n\u001b[1;32m   2207\u001b[0m   \u001b[39mif\u001b[39;00m \u001b[39mself\u001b[39m\u001b[39m.\u001b[39m_executable \u001b[39mis\u001b[39;00m \u001b[39mNone\u001b[39;00m \u001b[39mor\u001b[39;00m compiler_options \u001b[39mis\u001b[39;00m \u001b[39mnot\u001b[39;00m \u001b[39mNone\u001b[39;00m:\n\u001b[0;32m-> 2208\u001b[0m     executable \u001b[39m=\u001b[39m UnloadedMeshExecutable\u001b[39m.\u001b[39;49mfrom_hlo(\n\u001b[1;32m   2209\u001b[0m         \u001b[39mself\u001b[39;49m\u001b[39m.\u001b[39;49m_name, \u001b[39mself\u001b[39;49m\u001b[39m.\u001b[39;49m_hlo, \u001b[39m*\u001b[39;49m\u001b[39m*\u001b[39;49m\u001b[39mself\u001b[39;49m\u001b[39m.\u001b[39;49mcompile_args,\n\u001b[1;32m   2210\u001b[0m         compiler_options\u001b[39m=\u001b[39;49mcompiler_options)\n\u001b[1;32m   2211\u001b[0m     \u001b[39mif\u001b[39;00m compiler_options \u001b[39mis\u001b[39;00m \u001b[39mNone\u001b[39;00m:\n\u001b[1;32m   2212\u001b[0m       \u001b[39mself\u001b[39m\u001b[39m.\u001b[39m_executable \u001b[39m=\u001b[39m executable\n",
      "File \u001b[0;32m~/miniconda3/envs/nmma_gpu/lib/python3.10/site-packages/jax/_src/interpreters/pxla.py:2648\u001b[0m, in \u001b[0;36mUnloadedMeshExecutable.from_hlo\u001b[0;34m(***failed resolving arguments***)\u001b[0m\n\u001b[1;32m   2645\u001b[0m       mesh \u001b[39m=\u001b[39m i\u001b[39m.\u001b[39mmesh  \u001b[39m# type: ignore\u001b[39;00m\n\u001b[1;32m   2646\u001b[0m       \u001b[39mbreak\u001b[39;00m\n\u001b[0;32m-> 2648\u001b[0m xla_executable, compile_options \u001b[39m=\u001b[39m _cached_compilation(\n\u001b[1;32m   2649\u001b[0m     hlo, name, mesh, spmd_lowering,\n\u001b[1;32m   2650\u001b[0m     tuple_args, auto_spmd_lowering, allow_prop_to_outputs,\n\u001b[1;32m   2651\u001b[0m     \u001b[39mtuple\u001b[39;49m(host_callbacks), backend, da, pmap_nreps,\n\u001b[1;32m   2652\u001b[0m     compiler_options_keys, compiler_options_values)\n\u001b[1;32m   2654\u001b[0m \u001b[39mif\u001b[39;00m \u001b[39mhasattr\u001b[39m(backend, \u001b[39m\"\u001b[39m\u001b[39mcompile_replicated\u001b[39m\u001b[39m\"\u001b[39m):\n\u001b[1;32m   2655\u001b[0m   semantics_in_shardings \u001b[39m=\u001b[39m SemanticallyEqualShardings(in_shardings)  \u001b[39m# type: ignore\u001b[39;00m\n",
      "File \u001b[0;32m~/miniconda3/envs/nmma_gpu/lib/python3.10/site-packages/jax/_src/interpreters/pxla.py:2517\u001b[0m, in \u001b[0;36m_cached_compilation\u001b[0;34m(computation, name, mesh, spmd_lowering, tuple_args, auto_spmd_lowering, _allow_propagation_to_outputs, host_callbacks, backend, da, pmap_nreps, compiler_options_keys, compiler_options_values)\u001b[0m\n\u001b[1;32m   2512\u001b[0m   \u001b[39mreturn\u001b[39;00m \u001b[39mNone\u001b[39;00m, compile_options\n\u001b[1;32m   2514\u001b[0m \u001b[39mwith\u001b[39;00m dispatch\u001b[39m.\u001b[39mlog_elapsed_time(\n\u001b[1;32m   2515\u001b[0m     \u001b[39m\"\u001b[39m\u001b[39mFinished XLA compilation of \u001b[39m\u001b[39m{fun_name}\u001b[39;00m\u001b[39m in \u001b[39m\u001b[39m{elapsed_time}\u001b[39;00m\u001b[39m sec\u001b[39m\u001b[39m\"\u001b[39m,\n\u001b[1;32m   2516\u001b[0m     fun_name\u001b[39m=\u001b[39mname, event\u001b[39m=\u001b[39mdispatch\u001b[39m.\u001b[39mBACKEND_COMPILE_EVENT):\n\u001b[0;32m-> 2517\u001b[0m   xla_executable \u001b[39m=\u001b[39m compiler\u001b[39m.\u001b[39;49mcompile_or_get_cached(\n\u001b[1;32m   2518\u001b[0m       backend, computation, dev, compile_options, host_callbacks)\n\u001b[1;32m   2519\u001b[0m \u001b[39mreturn\u001b[39;00m xla_executable, compile_options\n",
      "File \u001b[0;32m~/miniconda3/envs/nmma_gpu/lib/python3.10/site-packages/jax/_src/compiler.py:350\u001b[0m, in \u001b[0;36mcompile_or_get_cached\u001b[0;34m(backend, computation, devices, compile_options, host_callbacks)\u001b[0m\n\u001b[1;32m    348\u001b[0m \u001b[39melse\u001b[39;00m:\n\u001b[1;32m    349\u001b[0m   start_time \u001b[39m=\u001b[39m time\u001b[39m.\u001b[39mmonotonic()\n\u001b[0;32m--> 350\u001b[0m   executable \u001b[39m=\u001b[39m backend_compile(backend, computation,\n\u001b[1;32m    351\u001b[0m                               compile_options, host_callbacks)\n\u001b[1;32m    352\u001b[0m   compile_time \u001b[39m=\u001b[39m time\u001b[39m.\u001b[39mmonotonic() \u001b[39m-\u001b[39m start_time\n\u001b[1;32m    353\u001b[0m   _cache_write(cache_key, compile_time, module_name, backend, executable,\n\u001b[1;32m    354\u001b[0m                host_callbacks)\n",
      "File \u001b[0;32m~/miniconda3/envs/nmma_gpu/lib/python3.10/site-packages/jax/_src/profiler.py:334\u001b[0m, in \u001b[0;36mannotate_function.<locals>.wrapper\u001b[0;34m(*args, **kwargs)\u001b[0m\n\u001b[1;32m    331\u001b[0m \u001b[39m@wraps\u001b[39m(func)\n\u001b[1;32m    332\u001b[0m \u001b[39mdef\u001b[39;00m \u001b[39mwrapper\u001b[39m(\u001b[39m*\u001b[39margs, \u001b[39m*\u001b[39m\u001b[39m*\u001b[39mkwargs):\n\u001b[1;32m    333\u001b[0m   \u001b[39mwith\u001b[39;00m TraceAnnotation(name, \u001b[39m*\u001b[39m\u001b[39m*\u001b[39mdecorator_kwargs):\n\u001b[0;32m--> 334\u001b[0m     \u001b[39mreturn\u001b[39;00m func(\u001b[39m*\u001b[39;49margs, \u001b[39m*\u001b[39;49m\u001b[39m*\u001b[39;49mkwargs)\n\u001b[1;32m    335\u001b[0m   \u001b[39mreturn\u001b[39;00m wrapper\n",
      "File \u001b[0;32m~/miniconda3/envs/nmma_gpu/lib/python3.10/site-packages/jax/_src/compiler.py:261\u001b[0m, in \u001b[0;36mbackend_compile\u001b[0;34m(backend, module, options, host_callbacks)\u001b[0m\n\u001b[1;32m    256\u001b[0m   \u001b[39mreturn\u001b[39;00m backend\u001b[39m.\u001b[39mcompile(built_c, compile_options\u001b[39m=\u001b[39moptions,\n\u001b[1;32m    257\u001b[0m                          host_callbacks\u001b[39m=\u001b[39mhost_callbacks)\n\u001b[1;32m    258\u001b[0m \u001b[39m# Some backends don't have `host_callbacks` option yet\u001b[39;00m\n\u001b[1;32m    259\u001b[0m \u001b[39m# TODO(sharadmv): remove this fallback when all backends allow `compile`\u001b[39;00m\n\u001b[1;32m    260\u001b[0m \u001b[39m# to take in `host_callbacks`\u001b[39;00m\n\u001b[0;32m--> 261\u001b[0m \u001b[39mreturn\u001b[39;00m backend\u001b[39m.\u001b[39;49mcompile(built_c, compile_options\u001b[39m=\u001b[39;49moptions)\n",
      "\u001b[0;31mKeyboardInterrupt\u001b[0m: "
     ]
    },
    {
     "ename": "",
     "evalue": "",
     "output_type": "error",
     "traceback": [
      "\u001b[1;31mThe Kernel crashed while executing code in the the current cell or a previous cell. Please review the code in the cell(s) to identify a possible cause of the failure. Click <a href='https://aka.ms/vscodeJupyterKernelCrash'>here</a> for more info. View Jupyter <a href='command:jupyter.viewOutput'>log</a> for further details."
     ]
    }
   ],
   "source": [
    "outdir_name = \"./outdir/\"\n",
    "kim = Kim(likelihood,\n",
    "          composite_prior,\n",
    "          n_loop_training=5,\n",
    "          n_loop_production=5,\n",
    "          n_local_steps=10,\n",
    "          n_global_steps=10,\n",
    "          n_chains=100,\n",
    "          n_epochs=10,\n",
    "          learning_rate=0.001,\n",
    "          max_samples=50000,\n",
    "          momentum=0.9,\n",
    "          batch_size=50000,\n",
    "          use_global=True,\n",
    "          keep_quantile=0.0,\n",
    "          train_thinning=10,\n",
    "          output_thinning=40,\n",
    "          local_sampler_arg=local_sampler_arg,\n",
    "          outdir_name=outdir_name\n",
    "          )\n",
    "\n",
    "kim.sample(jax.random.PRNGKey(42))"
   ]
  },
  {
   "cell_type": "markdown",
   "metadata": {},
   "source": [
    "## Debugging"
   ]
  },
  {
   "cell_type": "code",
   "execution_count": null,
   "metadata": {},
   "outputs": [],
   "source": [
    "example_params = {'log10_mej_dyn': -2.8864446440804197, \n",
    "             'vej_dyn': 0.13052120250720384, \n",
    "             'Yedyn': 0.23967937434215597, \n",
    "             'log10_mej_wind': -1.1819706730450323, \n",
    "             'vej_wind': 0.030019975460791992, \n",
    "             'inclination_EM': 0.9357809063909895,\n",
    "}"
   ]
  },
  {
   "cell_type": "code",
   "execution_count": null,
   "metadata": {},
   "outputs": [
    {
     "name": "stdout",
     "output_type": "stream",
     "text": [
      "DEBUG: params calc lc shape\n",
      "()\n",
      "DEBUG: shape param_list in internal calc lc flax\n",
      "(6,)\n"
     ]
    },
    {
     "data": {
      "text/plain": [
       "Array(-4.78260482e+13, dtype=float64)"
      ]
     },
     "execution_count": 8,
     "metadata": {},
     "output_type": "execute_result"
    }
   ],
   "source": [
    "example_params_array = jnp.array(list(example_params.values()))\n",
    "kim.posterior(example_params_array, {})"
   ]
  },
  {
   "cell_type": "code",
   "execution_count": null,
   "metadata": {},
   "outputs": [
    {
     "name": "stdout",
     "output_type": "stream",
     "text": [
      "(100, 6)\n"
     ]
    }
   ],
   "source": [
    "print(jnp.shape(kim.initial_guess))"
   ]
  },
  {
   "cell_type": "code",
   "execution_count": null,
   "metadata": {},
   "outputs": [
    {
     "name": "stdout",
     "output_type": "stream",
     "text": [
      "DEBUG: params calc lc shape\n",
      "()\n",
      "DEBUG: shape param_list in internal calc lc flax\n",
      "(6,)\n",
      "DEBUG: params calc lc shape\n",
      "()\n",
      "DEBUG: shape param_list in internal calc lc flax\n",
      "(6, 6)\n"
     ]
    },
    {
     "ename": "TypeError",
     "evalue": "dot_general requires contracting dimensions to have the same shape, got (10,) and (6,).",
     "output_type": "error",
     "traceback": [
      "\u001b[0;31m---------------------------------------------------------------------------\u001b[0m",
      "\u001b[0;31mTypeError\u001b[0m                                 Traceback (most recent call last)",
      "Cell \u001b[0;32mIn[14], line 1\u001b[0m\n\u001b[0;32m----> 1\u001b[0m kim\u001b[39m.\u001b[39;49mSampler\u001b[39m.\u001b[39;49msampling_loop(kim\u001b[39m.\u001b[39;49minitial_guess, jnp\u001b[39m.\u001b[39;49marray([]))\n",
      "File \u001b[0;32m~/flowMC/src/flowMC/sampler/Sampler.py:185\u001b[0m, in \u001b[0;36mSampler.sampling_loop\u001b[0;34m(self, initial_position, data, training)\u001b[0m\n\u001b[1;32m    182\u001b[0m \u001b[39melse\u001b[39;00m:\n\u001b[1;32m    183\u001b[0m     summary_mode \u001b[39m=\u001b[39m \u001b[39m\"\u001b[39m\u001b[39mproduction\u001b[39m\u001b[39m\"\u001b[39m\n\u001b[0;32m--> 185\u001b[0m \u001b[39mself\u001b[39m\u001b[39m.\u001b[39mrng_keys_mcmc, positions, log_prob, local_acceptance \u001b[39m=\u001b[39m \u001b[39mself\u001b[39;49m\u001b[39m.\u001b[39;49mlocal_sampler\u001b[39m.\u001b[39;49msample(\n\u001b[1;32m    186\u001b[0m     \u001b[39mself\u001b[39;49m\u001b[39m.\u001b[39;49mrng_keys_mcmc,\n\u001b[1;32m    187\u001b[0m     \u001b[39mself\u001b[39;49m\u001b[39m.\u001b[39;49mn_local_steps,\n\u001b[1;32m    188\u001b[0m     initial_position,\n\u001b[1;32m    189\u001b[0m     data,\n\u001b[1;32m    190\u001b[0m     verbose\u001b[39m=\u001b[39;49m\u001b[39mself\u001b[39;49m\u001b[39m.\u001b[39;49mverbose,\n\u001b[1;32m    191\u001b[0m )\n\u001b[1;32m    193\u001b[0m \u001b[39mprint\u001b[39m(\u001b[39m\"\u001b[39m\u001b[39mDEBUG: new positions\u001b[39m\u001b[39m\"\u001b[39m)\n\u001b[1;32m    194\u001b[0m \u001b[39mprint\u001b[39m(jnp\u001b[39m.\u001b[39mshape(positions))\n",
      "File \u001b[0;32m~/flowMC/src/flowMC/sampler/Gaussian_random_walk.py:115\u001b[0m, in \u001b[0;36mGaussianRandomWalk.sample\u001b[0;34m(self, rng_key, n_steps, initial_position, data, verbose)\u001b[0m\n\u001b[1;32m    112\u001b[0m     iterator_loop \u001b[39m=\u001b[39m \u001b[39mrange\u001b[39m(\u001b[39m1\u001b[39m, n_steps)\n\u001b[1;32m    114\u001b[0m \u001b[39mfor\u001b[39;00m i \u001b[39min\u001b[39;00m iterator_loop:\n\u001b[0;32m--> 115\u001b[0m     state \u001b[39m=\u001b[39m \u001b[39mself\u001b[39;49m\u001b[39m.\u001b[39;49mupdate_vmap(i, state)\n\u001b[1;32m    116\u001b[0m \u001b[39mreturn\u001b[39;00m state[:\u001b[39m-\u001b[39m\u001b[39m1\u001b[39m]\n",
      "    \u001b[0;31m[... skipping hidden 3 frame]\u001b[0m\n",
      "File \u001b[0;32m~/flowMC/src/flowMC/sampler/Gaussian_random_walk.py:77\u001b[0m, in \u001b[0;36mGaussianRandomWalk.update\u001b[0;34m(self, i, state)\u001b[0m\n\u001b[1;32m     75\u001b[0m key, positions, log_p, acceptance, data \u001b[39m=\u001b[39m state\n\u001b[1;32m     76\u001b[0m _, key \u001b[39m=\u001b[39m jax\u001b[39m.\u001b[39mrandom\u001b[39m.\u001b[39msplit(key)\n\u001b[0;32m---> 77\u001b[0m new_position, new_log_p, do_accept \u001b[39m=\u001b[39m \u001b[39mself\u001b[39;49m\u001b[39m.\u001b[39;49mkernel(\n\u001b[1;32m     78\u001b[0m     key, positions[i \u001b[39m-\u001b[39;49m \u001b[39m1\u001b[39;49m], log_p[i \u001b[39m-\u001b[39;49m \u001b[39m1\u001b[39;49m], data\n\u001b[1;32m     79\u001b[0m )\n\u001b[1;32m     80\u001b[0m positions \u001b[39m=\u001b[39m positions\u001b[39m.\u001b[39mat[i]\u001b[39m.\u001b[39mset(new_position)\n\u001b[1;32m     81\u001b[0m log_p \u001b[39m=\u001b[39m log_p\u001b[39m.\u001b[39mat[i]\u001b[39m.\u001b[39mset(new_log_p)\n",
      "File \u001b[0;32m~/flowMC/src/flowMC/sampler/Gaussian_random_walk.py:57\u001b[0m, in \u001b[0;36mGaussianRandomWalk.kernel\u001b[0;34m(self, rng_key, position, log_prob, data)\u001b[0m\n\u001b[1;32m     53\u001b[0m move_proposal \u001b[39m=\u001b[39m (\n\u001b[1;32m     54\u001b[0m     jax\u001b[39m.\u001b[39mrandom\u001b[39m.\u001b[39mnormal(key1, shape\u001b[39m=\u001b[39mposition\u001b[39m.\u001b[39mshape) \u001b[39m*\u001b[39m \u001b[39mself\u001b[39m\u001b[39m.\u001b[39mparams[\u001b[39m\"\u001b[39m\u001b[39mstep_size\u001b[39m\u001b[39m\"\u001b[39m]\n\u001b[1;32m     55\u001b[0m )\n\u001b[1;32m     56\u001b[0m proposal \u001b[39m=\u001b[39m position \u001b[39m+\u001b[39m move_proposal\n\u001b[0;32m---> 57\u001b[0m proposal_log_prob \u001b[39m=\u001b[39m \u001b[39mself\u001b[39;49m\u001b[39m.\u001b[39;49mlogpdf(proposal, data)\n\u001b[1;32m     59\u001b[0m log_uniform \u001b[39m=\u001b[39m jnp\u001b[39m.\u001b[39mlog(jax\u001b[39m.\u001b[39mrandom\u001b[39m.\u001b[39muniform(key2))\n\u001b[1;32m     60\u001b[0m do_accept \u001b[39m=\u001b[39m log_uniform \u001b[39m<\u001b[39m proposal_log_prob \u001b[39m-\u001b[39m log_prob\n",
      "File \u001b[0;32m~/kim/src/kim/kim.py:72\u001b[0m, in \u001b[0;36mKim.posterior\u001b[0;34m(self, params, data)\u001b[0m\n\u001b[1;32m     69\u001b[0m prior_params \u001b[39m=\u001b[39m \u001b[39mself\u001b[39m\u001b[39m.\u001b[39mPrior\u001b[39m.\u001b[39madd_name(params\u001b[39m.\u001b[39mT)\n\u001b[1;32m     70\u001b[0m prior \u001b[39m=\u001b[39m \u001b[39mself\u001b[39m\u001b[39m.\u001b[39mPrior\u001b[39m.\u001b[39mlog_prob(prior_params)\n\u001b[1;32m     71\u001b[0m \u001b[39mreturn\u001b[39;00m (\n\u001b[0;32m---> 72\u001b[0m     \u001b[39mself\u001b[39;49m\u001b[39m.\u001b[39;49mLikelihood\u001b[39m.\u001b[39;49mevaluate(\u001b[39mself\u001b[39;49m\u001b[39m.\u001b[39;49mPrior\u001b[39m.\u001b[39;49mtransform(prior_params), data) \u001b[39m+\u001b[39m prior\n\u001b[1;32m     73\u001b[0m )\n",
      "File \u001b[0;32m~/kim/src/kim/likelihood.py:171\u001b[0m, in \u001b[0;36mOpticalLightCurve.evaluate\u001b[0;34m(self, params, data)\u001b[0m\n\u001b[1;32m    157\u001b[0m \u001b[39m\u001b[39m\u001b[39m\"\"\"\u001b[39;00m\n\u001b[1;32m    158\u001b[0m \u001b[39mFunction taken from nmma/em/likelihood.py and adapted to this case here\u001b[39;00m\n\u001b[1;32m    159\u001b[0m \u001b[39m\u001b[39;00m\n\u001b[0;32m   (...)\u001b[0m\n\u001b[1;32m    167\u001b[0m \u001b[39m- this is assuming all data are \"finite\" and the LC is finite. Not checking this here since breaks JAX jit\u001b[39;00m\n\u001b[1;32m    168\u001b[0m \u001b[39m\"\"\"\u001b[39;00m\n\u001b[1;32m    170\u001b[0m params\u001b[39m.\u001b[39mupdate(\u001b[39mself\u001b[39m\u001b[39m.\u001b[39mfixed_params)\n\u001b[0;32m--> 171\u001b[0m log_prob  \u001b[39m=\u001b[39m \u001b[39mself\u001b[39;49m\u001b[39m.\u001b[39;49mlog_likelihood_chisq(params)\n\u001b[1;32m    172\u001b[0m \u001b[39m# TODO add the non detections here\u001b[39;00m\n\u001b[1;32m    173\u001b[0m log_prob \u001b[39m+\u001b[39m\u001b[39m=\u001b[39m \u001b[39m0.0\u001b[39m\n",
      "File \u001b[0;32m~/kim/src/kim/likelihood.py:139\u001b[0m, in \u001b[0;36mOpticalLightCurve.log_likelihood_chisq\u001b[0;34m(self, params)\u001b[0m\n\u001b[1;32m    132\u001b[0m \u001b[39m\u001b[39m\u001b[39m\"\"\"\u001b[39;00m\n\u001b[1;32m    133\u001b[0m \u001b[39mFunction taken from nmma/em/likelihood.py and adapted to this case here\u001b[39;00m\n\u001b[1;32m    134\u001b[0m \u001b[39m\u001b[39;00m\n\u001b[1;32m    135\u001b[0m \u001b[39mTODO: \u001b[39;00m\n\u001b[1;32m    136\u001b[0m \u001b[39m\"\"\"\u001b[39;00m\n\u001b[1;32m    138\u001b[0m params\u001b[39m.\u001b[39mupdate(\u001b[39mself\u001b[39m\u001b[39m.\u001b[39mfixed_params)\n\u001b[0;32m--> 139\u001b[0m mag_app_dict \u001b[39m=\u001b[39m \u001b[39mself\u001b[39;49m\u001b[39m.\u001b[39;49mcalc_lc(params)\n\u001b[1;32m    140\u001b[0m minus_chisquare_total \u001b[39m=\u001b[39m \u001b[39m0.0\u001b[39m\n\u001b[1;32m    141\u001b[0m \u001b[39mfor\u001b[39;00m filt \u001b[39min\u001b[39;00m \u001b[39mself\u001b[39m\u001b[39m.\u001b[39mfilters:\n\u001b[1;32m    142\u001b[0m     \u001b[39m# TODO: remove the deepcopy? Will this work?\u001b[39;00m\n",
      "File \u001b[0;32m~/kim/src/kim/likelihood.py:115\u001b[0m, in \u001b[0;36mOpticalLightCurve.calc_lc\u001b[0;34m(self, params)\u001b[0m\n\u001b[1;32m    112\u001b[0m \u001b[39mprint\u001b[39m(jnp\u001b[39m.\u001b[39mshape(params))\n\u001b[1;32m    114\u001b[0m params_array \u001b[39m=\u001b[39m jnp\u001b[39m.\u001b[39marray([params[key] \u001b[39mfor\u001b[39;00m key \u001b[39min\u001b[39;00m \u001b[39mself\u001b[39m\u001b[39m.\u001b[39mlight_curve_model\u001b[39m.\u001b[39mmodel_parameters])\n\u001b[0;32m--> 115\u001b[0m _, _, mag_abs \u001b[39m=\u001b[39m calc_lc_flax(\u001b[39mself\u001b[39;49m\u001b[39m.\u001b[39;49msample_times,\n\u001b[1;32m    116\u001b[0m                             params_array,\n\u001b[1;32m    117\u001b[0m                             svd_mag_model\u001b[39m=\u001b[39;49m\u001b[39mself\u001b[39;49m\u001b[39m.\u001b[39;49mlight_curve_model\u001b[39m.\u001b[39;49msvd_mag_model,\n\u001b[1;32m    118\u001b[0m                             svd_lbol_model\u001b[39m=\u001b[39;49m\u001b[39mNone\u001b[39;49;00m,\n\u001b[1;32m    119\u001b[0m                             mag_ncoeff\u001b[39m=\u001b[39;49m\u001b[39m10\u001b[39;49m,\n\u001b[1;32m    120\u001b[0m                             lbol_ncoeff\u001b[39m=\u001b[39;49m\u001b[39mNone\u001b[39;49;00m,\n\u001b[1;32m    121\u001b[0m                             filters\u001b[39m=\u001b[39;49m\u001b[39mself\u001b[39;49m\u001b[39m.\u001b[39;49mfilters)\n\u001b[1;32m    123\u001b[0m \u001b[39mfor\u001b[39;00m filt \u001b[39min\u001b[39;00m \u001b[39mself\u001b[39m\u001b[39m.\u001b[39mfilters:\n\u001b[1;32m    124\u001b[0m     mag_abs_filt \u001b[39m=\u001b[39m getFilteredMag(mag_abs, filt)\n",
      "File \u001b[0;32m~/nmma_gpu/nmma/em/utils.py:527\u001b[0m, in \u001b[0;36mcalc_lc_flax\u001b[0;34m(tt, param_list, svd_mag_model, svd_lbol_model, mag_ncoeff, lbol_ncoeff, filters)\u001b[0m\n\u001b[1;32m    524\u001b[0m cAstd \u001b[39m=\u001b[39m jnp\u001b[39m.\u001b[39mones((n_coeff,))\n\u001b[1;32m    526\u001b[0m \u001b[39m# Go from SVD coefficients to original lightcurve data\u001b[39;00m\n\u001b[0;32m--> 527\u001b[0m mag_back \u001b[39m=\u001b[39m jnp\u001b[39m.\u001b[39;49mdot(VA[:, :n_coeff], cAproj)\n\u001b[1;32m    528\u001b[0m mag_back \u001b[39m=\u001b[39m mag_back \u001b[39m*\u001b[39m (maxs \u001b[39m-\u001b[39m mins) \u001b[39m+\u001b[39m mins\n\u001b[1;32m    530\u001b[0m \u001b[39m## TODO how to implement this in jax?\u001b[39;00m\n\u001b[1;32m    531\u001b[0m \u001b[39m# ii = jnp.where((~jnp.isnan(mag_back)) * (tt_interp < 20.0))[0]\u001b[39;00m\n\u001b[1;32m    532\u001b[0m \u001b[39m# if len(ii) < 2:\u001b[39;00m\n\u001b[0;32m   (...)\u001b[0m\n\u001b[1;32m    535\u001b[0m \u001b[39m#     f = interp.interp1d(tt_interp[ii], mag_back[ii], fill_value=\"extrapolate\")\u001b[39;00m\n\u001b[1;32m    536\u001b[0m \u001b[39m#     maginterp = f(tt)\u001b[39;00m\n",
      "    \u001b[0;31m[... skipping hidden 12 frame]\u001b[0m\n",
      "File \u001b[0;32m~/miniconda3/envs/nmma_gpu/lib/python3.10/site-packages/jax/_src/numpy/lax_numpy.py:3284\u001b[0m, in \u001b[0;36mdot\u001b[0;34m(a, b, precision, preferred_element_type)\u001b[0m\n\u001b[1;32m   3282\u001b[0m   \u001b[39melse\u001b[39;00m:\n\u001b[1;32m   3283\u001b[0m     contract_dims \u001b[39m=\u001b[39m ((a_ndim \u001b[39m-\u001b[39m \u001b[39m1\u001b[39m,), (b_ndim \u001b[39m-\u001b[39m \u001b[39m2\u001b[39m,))\n\u001b[0;32m-> 3284\u001b[0m   result \u001b[39m=\u001b[39m lax\u001b[39m.\u001b[39;49mdot_general(a, b, dimension_numbers\u001b[39m=\u001b[39;49m(contract_dims, batch_dims),\n\u001b[1;32m   3285\u001b[0m                            precision\u001b[39m=\u001b[39;49mprecision, preferred_element_type\u001b[39m=\u001b[39;49mpreferred_element_type)\n\u001b[1;32m   3286\u001b[0m \u001b[39mreturn\u001b[39;00m lax_internal\u001b[39m.\u001b[39m_convert_element_type(result, preferred_element_type, output_weak_type)\n",
      "    \u001b[0;31m[... skipping hidden 7 frame]\u001b[0m\n",
      "File \u001b[0;32m~/miniconda3/envs/nmma_gpu/lib/python3.10/site-packages/jax/_src/lax/lax.py:2576\u001b[0m, in \u001b[0;36m_dot_general_shape_rule\u001b[0;34m(lhs, rhs, dimension_numbers, precision, preferred_element_type)\u001b[0m\n\u001b[1;32m   2573\u001b[0m \u001b[39mif\u001b[39;00m \u001b[39mnot\u001b[39;00m core\u001b[39m.\u001b[39mdefinitely_equal_shape(lhs_contracting_shape, rhs_contracting_shape):\n\u001b[1;32m   2574\u001b[0m   msg \u001b[39m=\u001b[39m (\u001b[39m\"\u001b[39m\u001b[39mdot_general requires contracting dimensions to have the same \u001b[39m\u001b[39m\"\u001b[39m\n\u001b[1;32m   2575\u001b[0m          \u001b[39m\"\u001b[39m\u001b[39mshape, got \u001b[39m\u001b[39m{}\u001b[39;00m\u001b[39m and \u001b[39m\u001b[39m{}\u001b[39;00m\u001b[39m.\u001b[39m\u001b[39m\"\u001b[39m)\n\u001b[0;32m-> 2576\u001b[0m   \u001b[39mraise\u001b[39;00m \u001b[39mTypeError\u001b[39;00m(msg\u001b[39m.\u001b[39mformat(lhs_contracting_shape, rhs_contracting_shape))\n\u001b[1;32m   2578\u001b[0m \u001b[39mreturn\u001b[39;00m _dot_general_shape_computation(lhs\u001b[39m.\u001b[39mshape, rhs\u001b[39m.\u001b[39mshape, dimension_numbers)\n",
      "\u001b[0;31mTypeError\u001b[0m: dot_general requires contracting dimensions to have the same shape, got (10,) and (6,)."
     ]
    }
   ],
   "source": [
    "kim.Sampler.sampling_loop(kim.initial_guess, jnp.array([]))"
   ]
  },
  {
   "cell_type": "markdown",
   "metadata": {},
   "source": [
    "Get the final samples if successful and have a look"
   ]
  },
  {
   "cell_type": "code",
   "execution_count": null,
   "metadata": {},
   "outputs": [],
   "source": [
    "# samples = kim.get_samples()\n",
    "# np.savez(\"samples.npz\", samples=samples)\n",
    "\n",
    "# print(\"DONE\")"
   ]
  }
 ],
 "metadata": {
  "kernelspec": {
   "display_name": "nmma_gpu",
   "language": "python",
   "name": "python3"
  },
  "language_info": {
   "codemirror_mode": {
    "name": "ipython",
    "version": 3
   },
   "file_extension": ".py",
   "mimetype": "text/x-python",
   "name": "python",
   "nbconvert_exporter": "python",
   "pygments_lexer": "ipython3",
   "version": "3.10.13"
  },
  "orig_nbformat": 4
 },
 "nbformat": 4,
 "nbformat_minor": 2
}

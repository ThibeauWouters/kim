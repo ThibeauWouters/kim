{
 "cells": [
  {
   "cell_type": "markdown",
   "metadata": {},
   "source": [
    "# Debugging the kim object"
   ]
  },
  {
   "cell_type": "markdown",
   "metadata": {},
   "source": [
    "Trying to debug and understand this."
   ]
  },
  {
   "cell_type": "markdown",
   "metadata": {},
   "source": [
    "## Set up"
   ]
  },
  {
   "cell_type": "code",
   "execution_count": 1,
   "metadata": {},
   "outputs": [
    {
     "name": "stderr",
     "output_type": "stream",
     "text": [
      "/home/urash/twouters/miniconda3/envs/nmma_gpu/lib/python3.10/site-packages/scipy/__init__.py:146: UserWarning: A NumPy version >=1.16.5 and <1.23.0 is required for this version of SciPy (detected version 1.26.2\n",
      "  warnings.warn(f\"A NumPy version >={np_minversion} and <{np_maxversion}\"\n"
     ]
    },
    {
     "name": "stdout",
     "output_type": "stream",
     "text": [
      "Install afterglowpy if you want to simulate afterglows.\n",
      "Install wrapt_timeout_decorator if you want timeout simulations.\n"
     ]
    },
    {
     "name": "stderr",
     "output_type": "stream",
     "text": [
      "/home/urash/twouters/miniconda3/envs/nmma_gpu/lib/python3.10/site-packages/tqdm/auto.py:21: TqdmWarning: IProgress not found. Please update jupyter and ipywidgets. See https://ipywidgets.readthedocs.io/en/stable/user_install.html\n",
      "  from .autonotebook import tqdm as notebook_tqdm\n"
     ]
    },
    {
     "name": "stdout",
     "output_type": "stream",
     "text": [
      "Checking if CUDA is found:\n",
      "[cuda(id=0)]\n",
      "Filters:  ['ps1__g', 'ps1__r', 'ps1__i', 'ps1__z', 'ps1__y', '2massj', '2massh', '2massks', 'sdssu']\n",
      "WATCH OUT: NMMA source code for flax is broken here so setting self.svd_path by hand\n",
      "/home/urash/twouters/flax_models\n",
      "/home/urash/twouters/flax_models/Bu2022Ye.pkl\n"
     ]
    }
   ],
   "source": [
    "import os\n",
    "os.environ[\"CUDA_VISIBLE_DEVICES\"] = \"0\"\n",
    "import inspect\n",
    "import numpy as np\n",
    "import jax.numpy as jnp\n",
    "import matplotlib.pyplot as plt\n",
    "# matlotlib settings\n",
    "mpl_params = {\"axes.grid\": True,\n",
    "        \"text.usetex\" : False, # TODO enable latex, but this breaks if filters have underscore\n",
    "        \"font.family\" : \"serif\",\n",
    "        \"ytick.color\" : \"black\",\n",
    "        \"xtick.color\" : \"black\",\n",
    "        \"axes.labelcolor\" : \"black\",\n",
    "        \"axes.edgecolor\" : \"black\",\n",
    "        \"font.serif\" : [\"Computer Modern Serif\"],\n",
    "        \"xtick.labelsize\": 16,\n",
    "        \"ytick.labelsize\": 16,\n",
    "        \"axes.labelsize\": 16,\n",
    "        \"legend.fontsize\": 16,\n",
    "        \"legend.title_fontsize\": 16,\n",
    "        \"figure.titlesize\": 16}\n",
    "plt.rcParams.update(mpl_params)\n",
    "\n",
    "import nmma as nmma\n",
    "from nmma.em.io import loadEvent\n",
    "from nmma.em.model import SVDLightCurveModel\n",
    "import nmma.em.model_parameters as model_parameters\n",
    "\n",
    "# flowMC imports\n",
    "from flowMC.nfmodel.rqSpline import MaskedCouplingRQSpline\n",
    "from flowMC.sampler.Gaussian_random_walk import GaussianRandomWalk\n",
    "from flowMC.sampler.MALA import MALA\n",
    "from flowMC.sampler.Sampler import Sampler\n",
    "from flowMC.utils.PRNG_keys import initialize_rng_keys\n",
    "from flowMC.nfmodel.utils import *\n",
    "\n",
    "from jimgw.prior import Uniform, Composite\n",
    "\n",
    "from kim.likelihood import OpticalLightCurve\n",
    "from kim.kim import Kim\n",
    "\n",
    "# jax imports\n",
    "import jax\n",
    "jax.config.update(\"jax_enable_x64\", True)\n",
    "jax.config.update(\"jax_debug_nans\", False)\n",
    "import jax.numpy as jnp\n",
    "\n",
    "import corner\n",
    "\n",
    "print(\"Checking if CUDA is found:\")\n",
    "print(jax.devices())\n",
    "\n",
    "### LOAD THE DATA ###\n",
    "\n",
    "data_file = \"../../data/AT2017gfo_corrected_no_inf.dat\"\n",
    "trigger_time = 57982.5285236896\n",
    "tmin, tmax = 0.05, 14\n",
    "data = loadEvent(data_file)\n",
    "filters = list(data.keys())\n",
    "print(\"Filters: \", filters)\n",
    "sample_times = jnp.linspace(tmin, tmax, 1_000)\n",
    "\n",
    "### PRIORS ###\n",
    "\n",
    "log10_mej_dyn_prior = Uniform(-3.0, -1.7, naming=[\"log10_mej_dyn\"])\n",
    "vej_dyn_prior = Uniform(0.12, 0.25, naming=[\"vej_dyn\"])\n",
    "Yedyn_prior = Uniform(0.15, 0.3, naming=[\"Yedyn\"])\n",
    "log10_mej_wind_prior = Uniform(-2.0, -0.89, naming=[\"log10_mej_wind\"])\n",
    "vej_wind_prior = Uniform(0.03, 0.15, naming=[\"vej_wind\"])\n",
    "inclination_EM_prior = Uniform(0., np.pi/2., naming=[\"inclination_EM\"])\n",
    "\n",
    "prior_list = [log10_mej_dyn_prior, \n",
    "              vej_dyn_prior, \n",
    "              Yedyn_prior, \n",
    "              log10_mej_wind_prior, \n",
    "              vej_wind_prior, \n",
    "              inclination_EM_prior]\n",
    "\n",
    "n_dim = len(prior_list)\n",
    "prior_range = [[prior.xmin, prior.xmax] for prior in prior_list]\n",
    "parameter_naming = [prior.naming for prior in prior_list]\n",
    "composite_prior = Composite(prior_list)\n",
    "\n",
    "### LIKELIHOOD ###\n",
    "\n",
    "MODEL_FUNCTIONS = {\n",
    "    k: v for k, v in model_parameters.__dict__.items() if inspect.isfunction(v)\n",
    "}\n",
    "MODEL_NAME = \"Bu2022Ye\"\n",
    "model_function = MODEL_FUNCTIONS[MODEL_NAME]\n",
    "\n",
    "svd_path = \"/home/urash/twouters/flax_models\"\n",
    "lc_model = SVDLightCurveModel(\n",
    "                MODEL_NAME,\n",
    "                sample_times,\n",
    "                svd_path=svd_path,\n",
    "                parameter_conversion=None,\n",
    "                mag_ncoeff=10,\n",
    "                lbol_ncoeff=None,\n",
    "                interpolation_type=\"flax\",\n",
    "                model_parameters=None,\n",
    "                filters=filters,\n",
    "                local_only=True\n",
    ")\n",
    "\n",
    "fixed_params = {'luminosity_distance': 44.0, \n",
    "                 'timeshift': 0.0}\n",
    "\n",
    "likelihood = OpticalLightCurve(lc_model,\n",
    "                               filters,\n",
    "                               data,\n",
    "                               trigger_time,\n",
    "                               fixed_params=fixed_params,\n",
    ")\n",
    "\n",
    "### LOCAL SAMPLER ARG ###\n",
    "\n",
    "eps = 1e-5\n",
    "mass_matrix = jnp.eye(n_dim)\n",
    "# TODO tune it here\n",
    "# mass_matrix = mass_matrix.at[0,0].set(1e-5)\n",
    "# mass_matrix = mass_matrix.at[1,1].set(1e-4)\n",
    "# mass_matrix = mass_matrix.at[2,2].set(1e-3)\n",
    "# mass_matrix = mass_matrix.at[3,3].set(1e-3)\n",
    "# mass_matrix = mass_matrix.at[7,7].set(1e-5)\n",
    "# mass_matrix = mass_matrix.at[11,11].set(1e-2)\n",
    "# mass_matrix = mass_matrix.at[12,12].set(1e-2)\n",
    "local_sampler_arg = {\"step_size\": mass_matrix * eps}\n"
   ]
  },
  {
   "cell_type": "markdown",
   "metadata": {},
   "source": [
    "Then try to go over to the sampling stage:"
   ]
  },
  {
   "cell_type": "code",
   "execution_count": 2,
   "metadata": {},
   "outputs": [
    {
     "name": "stdout",
     "output_type": "stream",
     "text": [
      "DEBUG: precompiling now\n",
      "DEBUG: precompiling done\n",
      "No autotune found, use input sampler_params\n",
      "Training normalizing flow\n"
     ]
    },
    {
     "name": "stderr",
     "output_type": "stream",
     "text": [
      "Tuning global sampler:   0%|          | 0/5 [00:00<?, ?it/s]"
     ]
    },
    {
     "name": "stdout",
     "output_type": "stream",
     "text": [
      "last_step shape\n",
      "(100, 6)\n",
      "DEBUG: params calc lc shape\n",
      "()\n",
      "DEBUG: shape param_list in internal calc lc flax\n",
      "(6,)\n",
      "Compiling MALA body\n",
      "DEBUG: params calc lc shape\n",
      "()\n",
      "DEBUG: shape param_list in internal calc lc flax\n",
      "(6,)\n",
      "Compiling MALA body\n",
      "DEBUG: params calc lc shape\n",
      "()\n",
      "DEBUG: shape param_list in internal calc lc flax\n",
      "(6,)\n",
      "Compiling MALA body\n",
      "DEBUG: params calc lc shape\n",
      "()\n",
      "DEBUG: shape param_list in internal calc lc flax\n",
      "(6,)\n"
     ]
    },
    {
     "name": "stderr",
     "output_type": "stream",
     "text": [
      "Tuning global sampler:   0%|          | 0/5 [01:29<?, ?it/s]\n"
     ]
    }
   ],
   "source": [
    "outdir_name = \"./outdir/\"\n",
    "kim = Kim(likelihood,\n",
    "          composite_prior,\n",
    "          n_loop_training=5,\n",
    "          n_loop_production=5,\n",
    "          n_local_steps=10,\n",
    "          n_global_steps=10,\n",
    "          n_chains=100,\n",
    "          n_epochs=10,\n",
    "          learning_rate=0.001,\n",
    "          max_samples=50000,\n",
    "          momentum=0.9,\n",
    "          batch_size=50000,\n",
    "          use_global=True,\n",
    "          keep_quantile=0.0,\n",
    "          train_thinning=10,\n",
    "          output_thinning=40,\n",
    "          local_sampler_arg=local_sampler_arg,\n",
    "          outdir_name=outdir_name\n",
    "          )\n",
    "\n",
    "kim.sample(jax.random.PRNGKey(42))"
   ]
  },
  {
   "cell_type": "markdown",
   "metadata": {},
   "source": [
    "## Debugging"
   ]
  },
  {
   "cell_type": "code",
   "execution_count": null,
   "metadata": {},
   "outputs": [],
   "source": [
    "example_params = {'log10_mej_dyn': -2.8864446440804197, \n",
    "             'vej_dyn': 0.13052120250720384, \n",
    "             'Yedyn': 0.23967937434215597, \n",
    "             'log10_mej_wind': -1.1819706730450323, \n",
    "             'vej_wind': 0.030019975460791992, \n",
    "             'inclination_EM': 0.9357809063909895,\n",
    "}"
   ]
  },
  {
   "cell_type": "code",
   "execution_count": null,
   "metadata": {},
   "outputs": [
    {
     "name": "stdout",
     "output_type": "stream",
     "text": [
      "DEBUG: params calc lc shape\n",
      "()\n",
      "DEBUG: shape param_list in internal calc lc flax\n",
      "(6,)\n"
     ]
    },
    {
     "data": {
      "text/plain": [
       "Array(-4.78260482e+13, dtype=float64)"
      ]
     },
     "execution_count": 8,
     "metadata": {},
     "output_type": "execute_result"
    }
   ],
   "source": [
    "example_params_array = jnp.array(list(example_params.values()))\n",
    "kim.posterior(example_params_array, {})"
   ]
  },
  {
   "cell_type": "code",
   "execution_count": null,
   "metadata": {},
   "outputs": [
    {
     "name": "stdout",
     "output_type": "stream",
     "text": [
      "(100, 6)\n"
     ]
    }
   ],
   "source": [
    "print(jnp.shape(kim.initial_guess))"
   ]
  },
  {
   "cell_type": "code",
   "execution_count": null,
   "metadata": {},
   "outputs": [
    {
     "name": "stdout",
     "output_type": "stream",
     "text": [
      "DEBUG: params calc lc shape\n",
      "()\n",
      "DEBUG: shape param_list in internal calc lc flax\n",
      "(6,)\n",
      "DEBUG: params calc lc shape\n",
      "()\n",
      "DEBUG: shape param_list in internal calc lc flax\n",
      "(6, 6)\n"
     ]
    },
    {
     "ename": "TypeError",
     "evalue": "dot_general requires contracting dimensions to have the same shape, got (10,) and (6,).",
     "output_type": "error",
     "traceback": [
      "\u001b[0;31m---------------------------------------------------------------------------\u001b[0m",
      "\u001b[0;31mTypeError\u001b[0m                                 Traceback (most recent call last)",
      "Cell \u001b[0;32mIn[14], line 1\u001b[0m\n\u001b[0;32m----> 1\u001b[0m kim\u001b[39m.\u001b[39;49mSampler\u001b[39m.\u001b[39;49msampling_loop(kim\u001b[39m.\u001b[39;49minitial_guess, jnp\u001b[39m.\u001b[39;49marray([]))\n",
      "File \u001b[0;32m~/flowMC/src/flowMC/sampler/Sampler.py:185\u001b[0m, in \u001b[0;36mSampler.sampling_loop\u001b[0;34m(self, initial_position, data, training)\u001b[0m\n\u001b[1;32m    182\u001b[0m \u001b[39melse\u001b[39;00m:\n\u001b[1;32m    183\u001b[0m     summary_mode \u001b[39m=\u001b[39m \u001b[39m\"\u001b[39m\u001b[39mproduction\u001b[39m\u001b[39m\"\u001b[39m\n\u001b[0;32m--> 185\u001b[0m \u001b[39mself\u001b[39m\u001b[39m.\u001b[39mrng_keys_mcmc, positions, log_prob, local_acceptance \u001b[39m=\u001b[39m \u001b[39mself\u001b[39;49m\u001b[39m.\u001b[39;49mlocal_sampler\u001b[39m.\u001b[39;49msample(\n\u001b[1;32m    186\u001b[0m     \u001b[39mself\u001b[39;49m\u001b[39m.\u001b[39;49mrng_keys_mcmc,\n\u001b[1;32m    187\u001b[0m     \u001b[39mself\u001b[39;49m\u001b[39m.\u001b[39;49mn_local_steps,\n\u001b[1;32m    188\u001b[0m     initial_position,\n\u001b[1;32m    189\u001b[0m     data,\n\u001b[1;32m    190\u001b[0m     verbose\u001b[39m=\u001b[39;49m\u001b[39mself\u001b[39;49m\u001b[39m.\u001b[39;49mverbose,\n\u001b[1;32m    191\u001b[0m )\n\u001b[1;32m    193\u001b[0m \u001b[39mprint\u001b[39m(\u001b[39m\"\u001b[39m\u001b[39mDEBUG: new positions\u001b[39m\u001b[39m\"\u001b[39m)\n\u001b[1;32m    194\u001b[0m \u001b[39mprint\u001b[39m(jnp\u001b[39m.\u001b[39mshape(positions))\n",
      "File \u001b[0;32m~/flowMC/src/flowMC/sampler/Gaussian_random_walk.py:115\u001b[0m, in \u001b[0;36mGaussianRandomWalk.sample\u001b[0;34m(self, rng_key, n_steps, initial_position, data, verbose)\u001b[0m\n\u001b[1;32m    112\u001b[0m     iterator_loop \u001b[39m=\u001b[39m \u001b[39mrange\u001b[39m(\u001b[39m1\u001b[39m, n_steps)\n\u001b[1;32m    114\u001b[0m \u001b[39mfor\u001b[39;00m i \u001b[39min\u001b[39;00m iterator_loop:\n\u001b[0;32m--> 115\u001b[0m     state \u001b[39m=\u001b[39m \u001b[39mself\u001b[39;49m\u001b[39m.\u001b[39;49mupdate_vmap(i, state)\n\u001b[1;32m    116\u001b[0m \u001b[39mreturn\u001b[39;00m state[:\u001b[39m-\u001b[39m\u001b[39m1\u001b[39m]\n",
      "    \u001b[0;31m[... skipping hidden 3 frame]\u001b[0m\n",
      "File \u001b[0;32m~/flowMC/src/flowMC/sampler/Gaussian_random_walk.py:77\u001b[0m, in \u001b[0;36mGaussianRandomWalk.update\u001b[0;34m(self, i, state)\u001b[0m\n\u001b[1;32m     75\u001b[0m key, positions, log_p, acceptance, data \u001b[39m=\u001b[39m state\n\u001b[1;32m     76\u001b[0m _, key \u001b[39m=\u001b[39m jax\u001b[39m.\u001b[39mrandom\u001b[39m.\u001b[39msplit(key)\n\u001b[0;32m---> 77\u001b[0m new_position, new_log_p, do_accept \u001b[39m=\u001b[39m \u001b[39mself\u001b[39;49m\u001b[39m.\u001b[39;49mkernel(\n\u001b[1;32m     78\u001b[0m     key, positions[i \u001b[39m-\u001b[39;49m \u001b[39m1\u001b[39;49m], log_p[i \u001b[39m-\u001b[39;49m \u001b[39m1\u001b[39;49m], data\n\u001b[1;32m     79\u001b[0m )\n\u001b[1;32m     80\u001b[0m positions \u001b[39m=\u001b[39m positions\u001b[39m.\u001b[39mat[i]\u001b[39m.\u001b[39mset(new_position)\n\u001b[1;32m     81\u001b[0m log_p \u001b[39m=\u001b[39m log_p\u001b[39m.\u001b[39mat[i]\u001b[39m.\u001b[39mset(new_log_p)\n",
      "File \u001b[0;32m~/flowMC/src/flowMC/sampler/Gaussian_random_walk.py:57\u001b[0m, in \u001b[0;36mGaussianRandomWalk.kernel\u001b[0;34m(self, rng_key, position, log_prob, data)\u001b[0m\n\u001b[1;32m     53\u001b[0m move_proposal \u001b[39m=\u001b[39m (\n\u001b[1;32m     54\u001b[0m     jax\u001b[39m.\u001b[39mrandom\u001b[39m.\u001b[39mnormal(key1, shape\u001b[39m=\u001b[39mposition\u001b[39m.\u001b[39mshape) \u001b[39m*\u001b[39m \u001b[39mself\u001b[39m\u001b[39m.\u001b[39mparams[\u001b[39m\"\u001b[39m\u001b[39mstep_size\u001b[39m\u001b[39m\"\u001b[39m]\n\u001b[1;32m     55\u001b[0m )\n\u001b[1;32m     56\u001b[0m proposal \u001b[39m=\u001b[39m position \u001b[39m+\u001b[39m move_proposal\n\u001b[0;32m---> 57\u001b[0m proposal_log_prob \u001b[39m=\u001b[39m \u001b[39mself\u001b[39;49m\u001b[39m.\u001b[39;49mlogpdf(proposal, data)\n\u001b[1;32m     59\u001b[0m log_uniform \u001b[39m=\u001b[39m jnp\u001b[39m.\u001b[39mlog(jax\u001b[39m.\u001b[39mrandom\u001b[39m.\u001b[39muniform(key2))\n\u001b[1;32m     60\u001b[0m do_accept \u001b[39m=\u001b[39m log_uniform \u001b[39m<\u001b[39m proposal_log_prob \u001b[39m-\u001b[39m log_prob\n",
      "File \u001b[0;32m~/kim/src/kim/kim.py:72\u001b[0m, in \u001b[0;36mKim.posterior\u001b[0;34m(self, params, data)\u001b[0m\n\u001b[1;32m     69\u001b[0m prior_params \u001b[39m=\u001b[39m \u001b[39mself\u001b[39m\u001b[39m.\u001b[39mPrior\u001b[39m.\u001b[39madd_name(params\u001b[39m.\u001b[39mT)\n\u001b[1;32m     70\u001b[0m prior \u001b[39m=\u001b[39m \u001b[39mself\u001b[39m\u001b[39m.\u001b[39mPrior\u001b[39m.\u001b[39mlog_prob(prior_params)\n\u001b[1;32m     71\u001b[0m \u001b[39mreturn\u001b[39;00m (\n\u001b[0;32m---> 72\u001b[0m     \u001b[39mself\u001b[39;49m\u001b[39m.\u001b[39;49mLikelihood\u001b[39m.\u001b[39;49mevaluate(\u001b[39mself\u001b[39;49m\u001b[39m.\u001b[39;49mPrior\u001b[39m.\u001b[39;49mtransform(prior_params), data) \u001b[39m+\u001b[39m prior\n\u001b[1;32m     73\u001b[0m )\n",
      "File \u001b[0;32m~/kim/src/kim/likelihood.py:171\u001b[0m, in \u001b[0;36mOpticalLightCurve.evaluate\u001b[0;34m(self, params, data)\u001b[0m\n\u001b[1;32m    157\u001b[0m \u001b[39m\u001b[39m\u001b[39m\"\"\"\u001b[39;00m\n\u001b[1;32m    158\u001b[0m \u001b[39mFunction taken from nmma/em/likelihood.py and adapted to this case here\u001b[39;00m\n\u001b[1;32m    159\u001b[0m \u001b[39m\u001b[39;00m\n\u001b[0;32m   (...)\u001b[0m\n\u001b[1;32m    167\u001b[0m \u001b[39m- this is assuming all data are \"finite\" and the LC is finite. Not checking this here since breaks JAX jit\u001b[39;00m\n\u001b[1;32m    168\u001b[0m \u001b[39m\"\"\"\u001b[39;00m\n\u001b[1;32m    170\u001b[0m params\u001b[39m.\u001b[39mupdate(\u001b[39mself\u001b[39m\u001b[39m.\u001b[39mfixed_params)\n\u001b[0;32m--> 171\u001b[0m log_prob  \u001b[39m=\u001b[39m \u001b[39mself\u001b[39;49m\u001b[39m.\u001b[39;49mlog_likelihood_chisq(params)\n\u001b[1;32m    172\u001b[0m \u001b[39m# TODO add the non detections here\u001b[39;00m\n\u001b[1;32m    173\u001b[0m log_prob \u001b[39m+\u001b[39m\u001b[39m=\u001b[39m \u001b[39m0.0\u001b[39m\n",
      "File \u001b[0;32m~/kim/src/kim/likelihood.py:139\u001b[0m, in \u001b[0;36mOpticalLightCurve.log_likelihood_chisq\u001b[0;34m(self, params)\u001b[0m\n\u001b[1;32m    132\u001b[0m \u001b[39m\u001b[39m\u001b[39m\"\"\"\u001b[39;00m\n\u001b[1;32m    133\u001b[0m \u001b[39mFunction taken from nmma/em/likelihood.py and adapted to this case here\u001b[39;00m\n\u001b[1;32m    134\u001b[0m \u001b[39m\u001b[39;00m\n\u001b[1;32m    135\u001b[0m \u001b[39mTODO: \u001b[39;00m\n\u001b[1;32m    136\u001b[0m \u001b[39m\"\"\"\u001b[39;00m\n\u001b[1;32m    138\u001b[0m params\u001b[39m.\u001b[39mupdate(\u001b[39mself\u001b[39m\u001b[39m.\u001b[39mfixed_params)\n\u001b[0;32m--> 139\u001b[0m mag_app_dict \u001b[39m=\u001b[39m \u001b[39mself\u001b[39;49m\u001b[39m.\u001b[39;49mcalc_lc(params)\n\u001b[1;32m    140\u001b[0m minus_chisquare_total \u001b[39m=\u001b[39m \u001b[39m0.0\u001b[39m\n\u001b[1;32m    141\u001b[0m \u001b[39mfor\u001b[39;00m filt \u001b[39min\u001b[39;00m \u001b[39mself\u001b[39m\u001b[39m.\u001b[39mfilters:\n\u001b[1;32m    142\u001b[0m     \u001b[39m# TODO: remove the deepcopy? Will this work?\u001b[39;00m\n",
      "File \u001b[0;32m~/kim/src/kim/likelihood.py:115\u001b[0m, in \u001b[0;36mOpticalLightCurve.calc_lc\u001b[0;34m(self, params)\u001b[0m\n\u001b[1;32m    112\u001b[0m \u001b[39mprint\u001b[39m(jnp\u001b[39m.\u001b[39mshape(params))\n\u001b[1;32m    114\u001b[0m params_array \u001b[39m=\u001b[39m jnp\u001b[39m.\u001b[39marray([params[key] \u001b[39mfor\u001b[39;00m key \u001b[39min\u001b[39;00m \u001b[39mself\u001b[39m\u001b[39m.\u001b[39mlight_curve_model\u001b[39m.\u001b[39mmodel_parameters])\n\u001b[0;32m--> 115\u001b[0m _, _, mag_abs \u001b[39m=\u001b[39m calc_lc_flax(\u001b[39mself\u001b[39;49m\u001b[39m.\u001b[39;49msample_times,\n\u001b[1;32m    116\u001b[0m                             params_array,\n\u001b[1;32m    117\u001b[0m                             svd_mag_model\u001b[39m=\u001b[39;49m\u001b[39mself\u001b[39;49m\u001b[39m.\u001b[39;49mlight_curve_model\u001b[39m.\u001b[39;49msvd_mag_model,\n\u001b[1;32m    118\u001b[0m                             svd_lbol_model\u001b[39m=\u001b[39;49m\u001b[39mNone\u001b[39;49;00m,\n\u001b[1;32m    119\u001b[0m                             mag_ncoeff\u001b[39m=\u001b[39;49m\u001b[39m10\u001b[39;49m,\n\u001b[1;32m    120\u001b[0m                             lbol_ncoeff\u001b[39m=\u001b[39;49m\u001b[39mNone\u001b[39;49;00m,\n\u001b[1;32m    121\u001b[0m                             filters\u001b[39m=\u001b[39;49m\u001b[39mself\u001b[39;49m\u001b[39m.\u001b[39;49mfilters)\n\u001b[1;32m    123\u001b[0m \u001b[39mfor\u001b[39;00m filt \u001b[39min\u001b[39;00m \u001b[39mself\u001b[39m\u001b[39m.\u001b[39mfilters:\n\u001b[1;32m    124\u001b[0m     mag_abs_filt \u001b[39m=\u001b[39m getFilteredMag(mag_abs, filt)\n",
      "File \u001b[0;32m~/nmma_gpu/nmma/em/utils.py:527\u001b[0m, in \u001b[0;36mcalc_lc_flax\u001b[0;34m(tt, param_list, svd_mag_model, svd_lbol_model, mag_ncoeff, lbol_ncoeff, filters)\u001b[0m\n\u001b[1;32m    524\u001b[0m cAstd \u001b[39m=\u001b[39m jnp\u001b[39m.\u001b[39mones((n_coeff,))\n\u001b[1;32m    526\u001b[0m \u001b[39m# Go from SVD coefficients to original lightcurve data\u001b[39;00m\n\u001b[0;32m--> 527\u001b[0m mag_back \u001b[39m=\u001b[39m jnp\u001b[39m.\u001b[39;49mdot(VA[:, :n_coeff], cAproj)\n\u001b[1;32m    528\u001b[0m mag_back \u001b[39m=\u001b[39m mag_back \u001b[39m*\u001b[39m (maxs \u001b[39m-\u001b[39m mins) \u001b[39m+\u001b[39m mins\n\u001b[1;32m    530\u001b[0m \u001b[39m## TODO how to implement this in jax?\u001b[39;00m\n\u001b[1;32m    531\u001b[0m \u001b[39m# ii = jnp.where((~jnp.isnan(mag_back)) * (tt_interp < 20.0))[0]\u001b[39;00m\n\u001b[1;32m    532\u001b[0m \u001b[39m# if len(ii) < 2:\u001b[39;00m\n\u001b[0;32m   (...)\u001b[0m\n\u001b[1;32m    535\u001b[0m \u001b[39m#     f = interp.interp1d(tt_interp[ii], mag_back[ii], fill_value=\"extrapolate\")\u001b[39;00m\n\u001b[1;32m    536\u001b[0m \u001b[39m#     maginterp = f(tt)\u001b[39;00m\n",
      "    \u001b[0;31m[... skipping hidden 12 frame]\u001b[0m\n",
      "File \u001b[0;32m~/miniconda3/envs/nmma_gpu/lib/python3.10/site-packages/jax/_src/numpy/lax_numpy.py:3284\u001b[0m, in \u001b[0;36mdot\u001b[0;34m(a, b, precision, preferred_element_type)\u001b[0m\n\u001b[1;32m   3282\u001b[0m   \u001b[39melse\u001b[39;00m:\n\u001b[1;32m   3283\u001b[0m     contract_dims \u001b[39m=\u001b[39m ((a_ndim \u001b[39m-\u001b[39m \u001b[39m1\u001b[39m,), (b_ndim \u001b[39m-\u001b[39m \u001b[39m2\u001b[39m,))\n\u001b[0;32m-> 3284\u001b[0m   result \u001b[39m=\u001b[39m lax\u001b[39m.\u001b[39;49mdot_general(a, b, dimension_numbers\u001b[39m=\u001b[39;49m(contract_dims, batch_dims),\n\u001b[1;32m   3285\u001b[0m                            precision\u001b[39m=\u001b[39;49mprecision, preferred_element_type\u001b[39m=\u001b[39;49mpreferred_element_type)\n\u001b[1;32m   3286\u001b[0m \u001b[39mreturn\u001b[39;00m lax_internal\u001b[39m.\u001b[39m_convert_element_type(result, preferred_element_type, output_weak_type)\n",
      "    \u001b[0;31m[... skipping hidden 7 frame]\u001b[0m\n",
      "File \u001b[0;32m~/miniconda3/envs/nmma_gpu/lib/python3.10/site-packages/jax/_src/lax/lax.py:2576\u001b[0m, in \u001b[0;36m_dot_general_shape_rule\u001b[0;34m(lhs, rhs, dimension_numbers, precision, preferred_element_type)\u001b[0m\n\u001b[1;32m   2573\u001b[0m \u001b[39mif\u001b[39;00m \u001b[39mnot\u001b[39;00m core\u001b[39m.\u001b[39mdefinitely_equal_shape(lhs_contracting_shape, rhs_contracting_shape):\n\u001b[1;32m   2574\u001b[0m   msg \u001b[39m=\u001b[39m (\u001b[39m\"\u001b[39m\u001b[39mdot_general requires contracting dimensions to have the same \u001b[39m\u001b[39m\"\u001b[39m\n\u001b[1;32m   2575\u001b[0m          \u001b[39m\"\u001b[39m\u001b[39mshape, got \u001b[39m\u001b[39m{}\u001b[39;00m\u001b[39m and \u001b[39m\u001b[39m{}\u001b[39;00m\u001b[39m.\u001b[39m\u001b[39m\"\u001b[39m)\n\u001b[0;32m-> 2576\u001b[0m   \u001b[39mraise\u001b[39;00m \u001b[39mTypeError\u001b[39;00m(msg\u001b[39m.\u001b[39mformat(lhs_contracting_shape, rhs_contracting_shape))\n\u001b[1;32m   2578\u001b[0m \u001b[39mreturn\u001b[39;00m _dot_general_shape_computation(lhs\u001b[39m.\u001b[39mshape, rhs\u001b[39m.\u001b[39mshape, dimension_numbers)\n",
      "\u001b[0;31mTypeError\u001b[0m: dot_general requires contracting dimensions to have the same shape, got (10,) and (6,)."
     ]
    }
   ],
   "source": [
    "kim.Sampler.sampling_loop(kim.initial_guess, jnp.array([]))"
   ]
  },
  {
   "cell_type": "markdown",
   "metadata": {},
   "source": [
    "Get the final samples if successful and have a look"
   ]
  },
  {
   "cell_type": "code",
   "execution_count": null,
   "metadata": {},
   "outputs": [],
   "source": [
    "# samples = kim.get_samples()\n",
    "# np.savez(\"samples.npz\", samples=samples)\n",
    "\n",
    "# print(\"DONE\")"
   ]
  }
 ],
 "metadata": {
  "kernelspec": {
   "display_name": "nmma_gpu",
   "language": "python",
   "name": "python3"
  },
  "language_info": {
   "codemirror_mode": {
    "name": "ipython",
    "version": 3
   },
   "file_extension": ".py",
   "mimetype": "text/x-python",
   "name": "python",
   "nbconvert_exporter": "python",
   "pygments_lexer": "ipython3",
   "version": "3.10.13"
  },
  "orig_nbformat": 4
 },
 "nbformat": 4,
 "nbformat_minor": 2
}
